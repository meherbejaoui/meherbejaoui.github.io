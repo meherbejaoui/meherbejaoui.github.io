{
 "cells": [
  {
   "cell_type": "markdown",
   "metadata": {},
   "source": [
    "# Bienvenue à Python 101"
   ]
  },
  {
   "cell_type": "markdown",
   "metadata": {},
   "source": [
    "## Sommaire\n",
    "\n",
    "- [Introduction à Python](#Utiliser-Python-comme-une-calculatrice) \n",
    "- [Contrôle du flux](#Contrôle-du-flux)\n",
    "- [Structures de données](#Structures-de-données)\n",
    "- [Modules](#Modules)"
   ]
  },
  {
   "cell_type": "markdown",
   "metadata": {},
   "source": [
    "***\n",
    "### Utiliser Python comme une calculatrice\n",
    "Après avoir installé Python, vous pouvez ouvrir une *console* ou *l'invite de commande*, tapez python et un intepréteur Python s'ouvre.\n",
    "Pour l'instant, nous utilisons ce notebook.  \n",
    "Essayons quelques commandes Python simples"
   ]
  },
  {
   "cell_type": "code",
   "execution_count": null,
   "metadata": {
    "collapsed": true
   },
   "outputs": [],
   "source": [
    "2+3 # Un commentaire"
   ]
  },
  {
   "cell_type": "markdown",
   "metadata": {},
   "source": [
    " "
   ]
  },
  {
   "cell_type": "code",
   "execution_count": null,
   "metadata": {
    "collapsed": true
   },
   "outputs": [],
   "source": [
    "20 + 11 * 3"
   ]
  },
  {
   "cell_type": "markdown",
   "metadata": {},
   "source": [
    " "
   ]
  },
  {
   "cell_type": "code",
   "execution_count": null,
   "metadata": {
    "collapsed": true
   },
   "outputs": [],
   "source": [
    "(20 - 11) / 4"
   ]
  },
  {
   "cell_type": "markdown",
   "metadata": {},
   "source": [
    "Les nombres entiers (comme 2, 3 et 11) sont de type **`int`**, alors que les décimaux (comme 10.0 et 3.14) sont de type **`float`**."
   ]
  },
  {
   "cell_type": "code",
   "execution_count": null,
   "metadata": {
    "collapsed": true
   },
   "outputs": [],
   "source": [
    "19 / 3 # La division (/) donne toujours un nombre de type 'float'"
   ]
  },
  {
   "cell_type": "markdown",
   "metadata": {},
   "source": [
    " "
   ]
  },
  {
   "cell_type": "code",
   "execution_count": null,
   "metadata": {
    "collapsed": true
   },
   "outputs": [],
   "source": [
    "19 // 3 # L'opérateur (//) effectue des divisions entières"
   ]
  },
  {
   "cell_type": "markdown",
   "metadata": {},
   "source": [
    " "
   ]
  },
  {
   "cell_type": "code",
   "execution_count": null,
   "metadata": {
    "collapsed": true
   },
   "outputs": [],
   "source": [
    "19 % 3  # L'opérateur (%) donne le reste de la division entière."
   ]
  },
  {
   "cell_type": "markdown",
   "metadata": {},
   "source": [
    "Il est possible de calculer des puissances (X<sup> y</sup>) avec l’opérateur `**`"
   ]
  },
  {
   "cell_type": "code",
   "execution_count": null,
   "metadata": {
    "collapsed": true
   },
   "outputs": [],
   "source": [
    "3 ** 2 \n",
    "# 11 ** 12. # les opérations avec des types d'opérandes mélangés donnent un résultat en virgule flottante"
   ]
  },
  {
   "cell_type": "markdown",
   "metadata": {},
   "source": [
    "Le signe égal ( `=` ) permet d'affecter une valeur à une variable"
   ]
  },
  {
   "cell_type": "code",
   "execution_count": null,
   "metadata": {
    "collapsed": true
   },
   "outputs": [],
   "source": [
    "hauteur = 7\n",
    "base = 9\n",
    "aire_du_triangle = (hauteur * base) / 2\n",
    "aire_du_triangl    # pour afficher le résultat {to talk about errors and their importance}"
   ]
  },
  {
   "cell_type": "markdown",
   "metadata": {},
   "source": [
    "***\n",
    "### Les chaînes de caractères\n",
    "Les chaînes de caractères peuvent être exprimés de différentes manières :"
   ]
  },
  {
   "cell_type": "code",
   "execution_count": null,
   "metadata": {
    "collapsed": true
   },
   "outputs": [],
   "source": [
    "'Bonjour' # guillemets simples\n",
    "\"Hello\" # guillemets doubles"
   ]
  },
  {
   "cell_type": "markdown",
   "metadata": {},
   "source": [
    " "
   ]
  },
  {
   "cell_type": "code",
   "execution_count": null,
   "metadata": {
    "collapsed": true
   },
   "outputs": [],
   "source": [
    "'de l\\'art' # utiliser \\' pour protéger les guillemets\n",
    "# \"de l'art\" # ou utiliser les guillemets doubles"
   ]
  },
  {
   "cell_type": "markdown",
   "metadata": {},
   "source": [
    " "
   ]
  },
  {
   "cell_type": "code",
   "execution_count": null,
   "metadata": {
    "collapsed": true
   },
   "outputs": [],
   "source": [
    "'\"Le petit chat est mort. \", dit Agnès'\n",
    "# \"\\\"Le petit chat est mort. \\\", dit Agnès\""
   ]
  },
  {
   "cell_type": "markdown",
   "metadata": {},
   "source": [
    "La fonction **`print()`** affiche les chaînes de caractères de manière plus lisible."
   ]
  },
  {
   "cell_type": "code",
   "execution_count": null,
   "metadata": {
    "collapsed": true
   },
   "outputs": [],
   "source": [
    "'\"L\\'art !\" dit Michel.'\n",
    "# print ('\"L\\'art !\" dit Michel.')\n",
    "# p = 'Première ligne.\\nDeuxième ligne.' # \\n signifie nouvelle ligne\n",
    "# p\n",
    "# print (p)"
   ]
  },
  {
   "cell_type": "markdown",
   "metadata": {},
   "source": [
    "Utilisez les chaînes brutes (`raw strings`) en préfixant la chaîne d’un **`r`**, pour éviter que les caractères précédés d’un antislash ne soient interprétés comme étant spéciaux."
   ]
  },
  {
   "cell_type": "code",
   "execution_count": null,
   "metadata": {
    "collapsed": true
   },
   "outputs": [],
   "source": [
    "print('C:\\Documents\\nom')\n",
    "# print(r'C:\\Documents\\nom') # les guillemets précédés par (r)"
   ]
  },
  {
   "cell_type": "markdown",
   "metadata": {},
   "source": [
    "Utilisez des triples guillemets : `'''abc'''` ou `\"\"\"xyz\"\"\"` pour écrire des chaînes de caractères qui s'étalent sur plusieurs lignes.  \n",
    "  \n",
    "Empêcher le retour à la ligne en ajoutant **`\\`**"
   ]
  },
  {
   "cell_type": "code",
   "execution_count": null,
   "metadata": {
    "collapsed": true
   },
   "outputs": [],
   "source": [
    "print(\"\"\"\\\n",
    "Définitions:\n",
    "     -dictionnaire           Une structure de donnée associant des clefs et des valeurs\n",
    "     -fonction               Une suite d’instructions qui renvoient une valeur à celui qui l’appelle\n",
    "\"\"\")"
   ]
  },
  {
   "cell_type": "markdown",
   "metadata": {},
   "source": [
    "L’opérateur **`+`** permet de coller (concaténer) plusieurs chaînes. L'opérateur **`*`** permet de répéter les chaînes."
   ]
  },
  {
   "cell_type": "code",
   "execution_count": null,
   "metadata": {
    "collapsed": true
   },
   "outputs": [],
   "source": [
    "'OUI ' * 3 + 'Hurrah!'\n",
    "# prefix = 'Hello Wo'\n",
    "# prefix + 'rld!'"
   ]
  },
  {
   "cell_type": "markdown",
   "metadata": {},
   "source": [
    "Les caractères peuvent être accédés par leur position. Pour l'indexation des chaînes de caractères, le premier caractère est à la position **0**."
   ]
  },
  {
   "cell_type": "code",
   "execution_count": null,
   "metadata": {
    "collapsed": true
   },
   "outputs": [],
   "source": [
    "phrase = \"Je m'appelle Brian\"\n",
    "phrase[0]\n",
    "# phrase[15]"
   ]
  },
  {
   "cell_type": "markdown",
   "metadata": {},
   "source": [
    "Pour effectuer un décompte en partant de la droite, nous utilisons des indices négatifs (commencent par **-1**)."
   ]
  },
  {
   "cell_type": "code",
   "execution_count": null,
   "metadata": {
    "collapsed": true
   },
   "outputs": [],
   "source": [
    "phrase[-1]\n",
    "# phrase[-3]\n",
    "# phrase[-18]"
   ]
  },
  {
   "cell_type": "markdown",
   "metadata": {},
   "source": [
    "Pour obtenir une sous-chaîne :"
   ]
  },
  {
   "cell_type": "code",
   "execution_count": null,
   "metadata": {
    "collapsed": true
   },
   "outputs": [],
   "source": [
    "phrase[0:2] # caractères de la position 0 (inclut) à 2 (exclu)\n",
    "# phrase[13:18]\n",
    "# phrase[:12]\n",
    "# phrase[12:] # s[:i] + s[i:] = s\n",
    "# phrase[-5:]\n",
    "# phrase[20] # indice trop grand (hors bornes)\n",
    "# phrase[5:20] # gérés silencieusement si utilisés dans des tranches"
   ]
  },
  {
   "cell_type": "markdown",
   "metadata": {},
   "source": [
    "Les chaînes de caractères sont `immutable` : elles ne peuvent pas être modifiées. "
   ]
  },
  {
   "cell_type": "code",
   "execution_count": null,
   "metadata": {
    "collapsed": true
   },
   "outputs": [],
   "source": [
    "phrase = \"Je m'appelle Brian\"\n",
    "phrase[1] = 'j'\n",
    "# phrase[13:] = 'Stewie'\n",
    "# phrase[:13] + 'Stewie !'"
   ]
  },
  {
   "cell_type": "markdown",
   "metadata": {
    "collapsed": true
   },
   "source": [
    "La fonction **`len()`** donne la longueur d'une chaîne :"
   ]
  },
  {
   "cell_type": "code",
   "execution_count": null,
   "metadata": {
    "collapsed": true
   },
   "outputs": [],
   "source": [
    "p = 'I have a dream'\n",
    "len(p)"
   ]
  },
  {
   "cell_type": "markdown",
   "metadata": {
    "collapsed": true
   },
   "source": [
    "***\n",
    "### Les listes\n",
    "Une suite d'éléments séparés par des virgules, placés entre crochets. Les éléments d’une liste ne sont pas obligatoirement du même type."
   ]
  },
  {
   "cell_type": "code",
   "execution_count": null,
   "metadata": {
    "collapsed": true
   },
   "outputs": [],
   "source": [
    "premiers  = [2, 3, 5, 7, 11]\n",
    "premiers"
   ]
  },
  {
   "cell_type": "markdown",
   "metadata": {},
   "source": [
    "Les listes peuvent être indicées et découpées :"
   ]
  },
  {
   "cell_type": "code",
   "execution_count": null,
   "metadata": {
    "collapsed": true
   },
   "outputs": [],
   "source": [
    "premiers[0]\n",
    "# premiers[-1]\n",
    "# premiers[2:10]"
   ]
  },
  {
   "cell_type": "markdown",
   "metadata": {},
   "source": [
    "Les opérations de découpage (en tranches) renvoient une nouvelle liste contenant les éléments spécifiés."
   ]
  },
  {
   "cell_type": "code",
   "execution_count": null,
   "metadata": {
    "collapsed": true
   },
   "outputs": [],
   "source": [
    "premiers[:] # une copie de la liste"
   ]
  },
  {
   "cell_type": "markdown",
   "metadata": {},
   "source": [
    "Les listes supportent des opérations comme pour les chaînes de caratcères."
   ]
  },
  {
   "cell_type": "code",
   "execution_count": null,
   "metadata": {
    "collapsed": true
   },
   "outputs": [],
   "source": [
    "premiers + [13, 17, 19]\n",
    "# premiers * 2"
   ]
  },
  {
   "cell_type": "markdown",
   "metadata": {},
   "source": [
    "Il est possible de changer le contenu des listes : elles sont `mutables`"
   ]
  },
  {
   "cell_type": "code",
   "execution_count": null,
   "metadata": {
    "collapsed": true
   },
   "outputs": [],
   "source": [
    "nbres = [1, 2, 'c', 4] \n",
    "# nbres[2] = 3\n",
    "nbres"
   ]
  },
  {
   "cell_type": "markdown",
   "metadata": {},
   "source": [
    " "
   ]
  },
  {
   "cell_type": "code",
   "execution_count": 50,
   "metadata": {
    "collapsed": true
   },
   "outputs": [],
   "source": [
    "nbres.append(5) # méthode pour ajouter des éléments à la fin\n",
    "nbres"
   ]
  },
  {
   "cell_type": "markdown",
   "metadata": {},
   "source": [
    " "
   ]
  },
  {
   "cell_type": "code",
   "execution_count": null,
   "metadata": {
    "collapsed": true
   },
   "outputs": [],
   "source": [
    "nbres[2:4] = [10, 100] # affectation par tranches\n",
    "# nbres[:] = [] # supprimer toutes les valeurs \n",
    "nbres"
   ]
  },
  {
   "cell_type": "markdown",
   "metadata": {},
   "source": [
    "Il est possible de créer des listes contenant d'autres listes :"
   ]
  },
  {
   "cell_type": "code",
   "execution_count": null,
   "metadata": {
    "collapsed": true
   },
   "outputs": [],
   "source": [
    "a = [1, 2, 3]\n",
    "b = ['f', 'r', 'a']\n",
    "res = [a, b]\n",
    "# res\n",
    "# res[1]\n",
    "# res[0][2]"
   ]
  },
  {
   "cell_type": "markdown",
   "metadata": {},
   "source": [
    "La compréhension des listes (`list comprehension`) permet de construire des nouvelles listes où chaque élément est le résultat d'une opération appliquée à chaque élément d’une autre séquence; ou de créer une sous-séquence d'éléments satisfaisants une certaine condition.  \n",
    "Elle consiste en deux crochets contenants une expression suivie par une clause **`for`**, puis par une ou plusieurs clauses **`for`** ou **`if`**."
   ]
  },
  {
   "cell_type": "code",
   "execution_count": null,
   "metadata": {
    "collapsed": true
   },
   "outputs": [],
   "source": [
    "[x for x in range(6) if x % 2 == 0]"
   ]
  },
  {
   "cell_type": "markdown",
   "metadata": {},
   "source": [
    " "
   ]
  },
  {
   "cell_type": "code",
   "execution_count": null,
   "metadata": {
    "collapsed": true
   },
   "outputs": [],
   "source": [
    "[(x, y) for x in [1,2,3] for y in [3,1] if x != y]"
   ]
  },
  {
   "cell_type": "markdown",
   "metadata": {},
   "source": [
    "***\n",
    "### Contrôle du flux\n",
    "#### L’instruction `if` :"
   ]
  },
  {
   "cell_type": "code",
   "execution_count": null,
   "metadata": {
    "collapsed": true
   },
   "outputs": [],
   "source": [
    "x = 11\n",
    "if x % 2 == 0:\n",
    "    print ('foo')\n",
    "    s = 'nombre pair'\n",
    "else:    \n",
    "    print ('bar')    # x % 2 != 0"
   ]
  },
  {
   "cell_type": "markdown",
   "metadata": {},
   "source": [
    " "
   ]
  },
  {
   "cell_type": "code",
   "execution_count": null,
   "metadata": {
    "collapsed": true
   },
   "outputs": [],
   "source": [
    "x = 20\n",
    "if x % 5 == 0 and x % 2 == 0:\n",
    "    print ('foobar')\n",
    "elif x % 5 == 0:\n",
    "    print ('foo')\n",
    "else:\n",
    "    print ('bar')"
   ]
  },
  {
   "cell_type": "markdown",
   "metadata": {},
   "source": [
    "#### L'instruction `for` :\n",
    "Elle permet d'itérer sur les éléments d'une séquence (une liste, une chaîne de caractères, etc.) par ordre."
   ]
  },
  {
   "cell_type": "code",
   "execution_count": null,
   "metadata": {
    "collapsed": true
   },
   "outputs": [],
   "source": [
    "pays = ['France', 'Canada', 'Belgique', 'Suisse']\n",
    "for p in pays:\n",
    "    print (p, len(p))"
   ]
  },
  {
   "cell_type": "markdown",
   "metadata": {},
   "source": [
    " "
   ]
  },
  {
   "cell_type": "code",
   "execution_count": null,
   "metadata": {
    "collapsed": true
   },
   "outputs": [],
   "source": [
    "mot = '1 chat'\n",
    "for c in mot:\n",
    "    print (c)"
   ]
  },
  {
   "cell_type": "markdown",
   "metadata": {},
   "source": [
    " "
   ]
  },
  {
   "cell_type": "code",
   "execution_count": null,
   "metadata": {
    "collapsed": true
   },
   "outputs": [],
   "source": [
    "for i in range(1, 4): \n",
    "    print (i ** 2)"
   ]
  },
  {
   "cell_type": "markdown",
   "metadata": {},
   "source": [
    "#### L'instruction `while` :"
   ]
  },
  {
   "cell_type": "code",
   "execution_count": null,
   "metadata": {
    "collapsed": true
   },
   "outputs": [],
   "source": [
    "x = 1\n",
    "while x <= 5:\n",
    "    print (x, end=' ') # Le paramètre (end) sert à enlever le retour à la ligne, ou terminer par un autre caractère\n",
    "    x += 2 # x = x + 2"
   ]
  },
  {
   "cell_type": "markdown",
   "metadata": {},
   "source": [
    "##### Les fonctions :\n",
    "Le mot-clé **`def`** définit la fonction. Il est suivi du nom de la fonction, et de ses paramètres entre parenthèses."
   ]
  },
  {
   "cell_type": "code",
   "execution_count": null,
   "metadata": {
    "collapsed": true
   },
   "outputs": [],
   "source": [
    "def add(n):         # calculer la somme des chiffres de 1 à n\n",
    "    somme = 0       # une variable locale\n",
    "    for i in range(1, n+1):\n",
    "        somme += i\n",
    "    return somme\n",
    "add(3)\n",
    "# add(10)\n",
    "\n",
    "# somme # n'est pas défini 'globalement' \n",
    "# somme = 100        # variable globale\n",
    "# somme"
   ]
  },
  {
   "cell_type": "markdown",
   "metadata": {},
   "source": [
    " "
   ]
  },
  {
   "cell_type": "code",
   "execution_count": null,
   "metadata": {
    "collapsed": true
   },
   "outputs": [],
   "source": [
    "def fib(a, b, n):\n",
    "    \"\"\" print une suite de fibnoacci à partir des termes a et b, jusqu'à n \"\"\"\n",
    "    while a < n:\n",
    "        print(a, end=' ')\n",
    "        a, b = b, a+b\n",
    "fib(5, 8, 2000) '''{même les fonctions sans instruction \n",
    "                 return renvoient une valeur, quoique ennuyeuse. Cette valeur est appelée None }'''"
   ]
  },
  {
   "cell_type": "markdown",
   "metadata": {
    "collapsed": true
   },
   "source": [
    "***\n",
    "### Structures de données\n",
    "#### Tuples \n",
    "Une séquence d'éléments séparés par des virgules (et encadrés par des parenthèses si nécessaire)"
   ]
  },
  {
   "cell_type": "code",
   "execution_count": null,
   "metadata": {
    "collapsed": true
   },
   "outputs": [],
   "source": [
    "t = 'python', 3.5, 101\n",
    "t\n",
    "# t[2]\n",
    "\n",
    "# n = t,  'Guido', ('2.7', 2010), [0, 90] # tuples imbriqués\n",
    "# n"
   ]
  },
  {
   "cell_type": "markdown",
   "metadata": {},
   "source": [
    " "
   ]
  },
  {
   "cell_type": "code",
   "execution_count": null,
   "metadata": {
    "collapsed": true
   },
   "outputs": [],
   "source": [
    "n[1] = 'Guido van Rossum' # ils sont immutables\n",
    "# n[3][1] = 100 \n",
    "n"
   ]
  },
  {
   "cell_type": "markdown",
   "metadata": {},
   "source": [
    " "
   ]
  },
  {
   "cell_type": "code",
   "execution_count": null,
   "metadata": {
    "collapsed": true
   },
   "outputs": [],
   "source": [
    "vide = () # initier un tuple vide\n",
    "# un = 'python', "
   ]
  },
  {
   "cell_type": "markdown",
   "metadata": {
    "collapsed": true
   },
   "source": [
    "#### Les ensembles (`sets`)\n",
    "Une collection non ordonnée, sans élément dupliqué."
   ]
  },
  {
   "cell_type": "code",
   "execution_count": null,
   "metadata": {
    "collapsed": true
   },
   "outputs": [],
   "source": [
    "notes = {18, 15, 14, 11 ,18, 14}\n",
    "notes\n",
    "# fruits = {'orange', 'raisin', 'pomme' ,'kiwi' , 'orange', 'pomme'}\n",
    "# fruits"
   ]
  },
  {
   "cell_type": "markdown",
   "metadata": {},
   "source": [
    " "
   ]
  },
  {
   "cell_type": "code",
   "execution_count": null,
   "metadata": {
    "collapsed": true
   },
   "outputs": [],
   "source": [
    "a = set('abccba')\n",
    "a\n",
    "# a & set('atta') # supportent d'autres opérations (unions, intersections, différences, etc.)"
   ]
  },
  {
   "cell_type": "markdown",
   "metadata": {
    "collapsed": true
   },
   "source": [
    "#### Dictionnaires\n",
    "Des ensembles non ordonnés de pairs **`clé` : `valeur`** (`key` : `value` pairs). Ils sont indexés par des `clés` (keys), qui peuvent être de n’importe quel type immuable : chaînes de caractères, nombres et tuples (s’ils ne contiennent que des `immutables`).  \n",
    "Les clés doivent être uniques au sein d'un dictionnaire."
   ]
  },
  {
   "cell_type": "code",
   "execution_count": null,
   "metadata": {
    "collapsed": true
   },
   "outputs": [],
   "source": [
    "d = {} # créer un dictionnaire vide\n",
    "\n",
    "# d = {'Marie':15, 'Jean':2, 'Victor':9}\n",
    "# d['Marie']\n",
    "# del d['Victor']\n",
    "# d['Charles'] = 33\n",
    "d"
   ]
  },
  {
   "cell_type": "markdown",
   "metadata": {},
   "source": [
    " "
   ]
  },
  {
   "cell_type": "code",
   "execution_count": null,
   "metadata": {
    "collapsed": true
   },
   "outputs": [],
   "source": [
    "p = dict([('Anthony', 'a'), ('Guido', [0, 'g']), ('Marie', 'm')])\n",
    "# p.keys()\n",
    "# p.values()\n",
    "# 'guido' in p\n",
    "# 'Guido' in p"
   ]
  },
  {
   "cell_type": "markdown",
   "metadata": {},
   "source": [
    "Création des dictionnaires par compréhension (`dict comprehensions`)."
   ]
  },
  {
   "cell_type": "code",
   "execution_count": null,
   "metadata": {
    "collapsed": true
   },
   "outputs": [],
   "source": [
    "{x: x**3 for x in range(1, 6)}"
   ]
  },
  {
   "cell_type": "markdown",
   "metadata": {
    "collapsed": true
   },
   "source": [
    "***\n",
    "### Modules\n",
    "Un module est un fichier contenant des définitions et des instructions. Le nom du fichier est celui du module, suffixé de **`.py`**.\n",
    "```python\n",
    "import <module> # importer le module dans la table des symboles\n",
    "\n",
    "<module>.<fonction> # accéder aux fonctions (ou constantes)\n",
    "```   \n",
    "Pour importer les noms d'un **`<module_1>`** directement dans la table des symboles du module qui l'importe (**`<module_2>`**). De ce fait, le nom du **`<module_1>`** n'est pas défini à l'intérieur du **`<module_2>`**\n",
    "```python\n",
    "from <module> import <fonction_1>, <fonction_2>, <fonction_n> \n",
    "```\n",
    "Ou bien\n",
    "```python\n",
    "from <module> import * # importer tous les noms du module (déconseillé)\n",
    "```"
   ]
  },
  {
   "cell_type": "markdown",
   "metadata": {},
   "source": [
    "***\n",
    "## Exercice pratique de synthèse\n",
    "- Définir une fonction `somme_impairs` qui prend une liste de nombres comme argument, et renvoie la somme de tous les entiers impairs. Par exemple :  \n",
    "```python\n",
    "somme_impairs([5, -13, 3]) = -5\n",
    "somme_impairs([2, 1, 1.01) = 1\n",
    "```\n",
    "- Écrire un programme qui prend une valeur entrée par l'utilisateur (1 <= N <= 100), et affiche un message comme suit :\n",
    "```python\n",
    " - \"Votre valeur X est plus grande. Essayer de nouveau !\" # si la valeur entrée est plus grande à celle du programme\n",
    " - \"Votre valeur X est plus petite. Essayer de nouveau !\" # si la valeur entrée est plus petite à celle du programme\n",
    " - \"Bravo ! C'était bien X\"                               # si la valeur entrée est correcte\n",
    "```\n",
    "Avec X est la valeur entrée par l'utilisateur.  \n",
    "Penser à utiliser la fonction **`randint`** du module **`random`** pour générer un entier aléatoirement.\n",
    "```python\n",
    "from random import randint\n",
    "n = randint(1, 100)\n",
    "```\n",
    "Pour plus de détails sur n'importe quel objet,  fonction ou module, utiliser : ** `help(<nom>)`** "
   ]
  }
 ],
 "metadata": {
  "kernelspec": {
   "display_name": "Python 3",
   "language": "python",
   "name": "python3"
  },
  "language_info": {
   "codemirror_mode": {
    "name": "ipython",
    "version": 3
   },
   "file_extension": ".py",
   "mimetype": "text/x-python",
   "name": "python",
   "nbconvert_exporter": "python",
   "pygments_lexer": "ipython3",
   "version": "3.5.4"
  }
 },
 "nbformat": 4,
 "nbformat_minor": 2
}
